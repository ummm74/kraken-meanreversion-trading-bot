# Load environment variables
from dotenv import load_dotenv
import os
import time
from websocket_api_kraken import KrakenAPI
from Mean_Strategy import generate_signal

load_dotenv("authkeys.env")
API_KEY = os.getenv("API_KEY")
API_SECRET = os.getenv("API_SECRET")

def main():
    API_URL = "wss://demo-futures.kraken.com/ws/v1" #change to the exchange you are using
    
    # Initialize KrakenAPI with API URL, key, and secret
    kraken = KrakenAPI(API_URL, API_KEY, API_SECRET)
    
    while True:
        try:
            market_data = kraken.get_market_data()
            
            # Ensure market_data is valid and has enough data
            if len(market_data) >= 100:
                signal = generate_signal(market_data)
                
                if signal == 'buy':
                    kraken.place_order('buy')
                elif signal == 'sell':
                    kraken.place_order('sell')
            
            time.sleep(60)  # Wait for 1 minute before next iteration
        
        except Exception as e:
            print(f"Error: {e}")
            time.sleep(60)  # Wait for 1 minute before retrying

if __name__ == "__main__":
    main()
